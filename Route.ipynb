{
 "cells": [
  {
   "cell_type": "code",
   "execution_count": 1,
   "metadata": {},
   "outputs": [],
   "source": [
    "import pandas as pd\n",
    "import numpy as np\n",
    "from selenium import webdriver\n",
    "import time\n",
    "from selenium.webdriver.common.keys import Keys"
   ]
  },
  {
   "cell_type": "code",
   "execution_count": 2,
   "metadata": {},
   "outputs": [
    {
     "data": {
      "text/html": [
       "<div>\n",
       "<style scoped>\n",
       "    .dataframe tbody tr th:only-of-type {\n",
       "        vertical-align: middle;\n",
       "    }\n",
       "\n",
       "    .dataframe tbody tr th {\n",
       "        vertical-align: top;\n",
       "    }\n",
       "\n",
       "    .dataframe thead th {\n",
       "        text-align: right;\n",
       "    }\n",
       "</style>\n",
       "<table border=\"1\" class=\"dataframe\">\n",
       "  <thead>\n",
       "    <tr style=\"text-align: right;\">\n",
       "      <th></th>\n",
       "      <th>DeliveryID</th>\n",
       "      <th>Value</th>\n",
       "      <th>Duration</th>\n",
       "      <th>Start</th>\n",
       "      <th>End</th>\n",
       "      <th>Address</th>\n",
       "    </tr>\n",
       "  </thead>\n",
       "  <tbody>\n",
       "    <tr>\n",
       "      <td>0</td>\n",
       "      <td>0</td>\n",
       "      <td>NaN</td>\n",
       "      <td>NaN</td>\n",
       "      <td>NaN</td>\n",
       "      <td>NaN</td>\n",
       "      <td>4331 Overland Ave, Culver City, CA 90230</td>\n",
       "    </tr>\n",
       "    <tr>\n",
       "      <td>1</td>\n",
       "      <td>1</td>\n",
       "      <td>30.0</td>\n",
       "      <td>30.0</td>\n",
       "      <td>10.0</td>\n",
       "      <td>12.0</td>\n",
       "      <td>11106 1/2 National Blvd, Los Angeles. CA 90034</td>\n",
       "    </tr>\n",
       "    <tr>\n",
       "      <td>2</td>\n",
       "      <td>2</td>\n",
       "      <td>80.0</td>\n",
       "      <td>45.0</td>\n",
       "      <td>12.0</td>\n",
       "      <td>2.0</td>\n",
       "      <td>Culver City, 10797 Washington Blvd, Culver Cit...</td>\n",
       "    </tr>\n",
       "    <tr>\n",
       "      <td>3</td>\n",
       "      <td>3</td>\n",
       "      <td>25.0</td>\n",
       "      <td>15.0</td>\n",
       "      <td>2.0</td>\n",
       "      <td>4.0</td>\n",
       "      <td>10836 Washington Blvd, Culver City, CA 90232</td>\n",
       "    </tr>\n",
       "    <tr>\n",
       "      <td>4</td>\n",
       "      <td>4</td>\n",
       "      <td>150.0</td>\n",
       "      <td>90.0</td>\n",
       "      <td>4.0</td>\n",
       "      <td>6.0</td>\n",
       "      <td>3470 S Sepulveda Blvd, Los Angeles, CA 90034</td>\n",
       "    </tr>\n",
       "  </tbody>\n",
       "</table>\n",
       "</div>"
      ],
      "text/plain": [
       "   DeliveryID  Value  Duration  Start   End  \\\n",
       "0           0    NaN       NaN    NaN   NaN   \n",
       "1           1   30.0      30.0   10.0  12.0   \n",
       "2           2   80.0      45.0   12.0   2.0   \n",
       "3           3   25.0      15.0    2.0   4.0   \n",
       "4           4  150.0      90.0    4.0   6.0   \n",
       "\n",
       "                                             Address  \n",
       "0           4331 Overland Ave, Culver City, CA 90230  \n",
       "1     11106 1/2 National Blvd, Los Angeles. CA 90034  \n",
       "2  Culver City, 10797 Washington Blvd, Culver Cit...  \n",
       "3       10836 Washington Blvd, Culver City, CA 90232  \n",
       "4       3470 S Sepulveda Blvd, Los Angeles, CA 90034  "
      ]
     },
     "execution_count": 2,
     "metadata": {},
     "output_type": "execute_result"
    }
   ],
   "source": [
    "## open csv file \n",
    "df = pd.read_csv('Project1.csv')\n",
    "df.head()"
   ]
  },
  {
   "cell_type": "code",
   "execution_count": 3,
   "metadata": {},
   "outputs": [],
   "source": [
    "## Using Selenium to get the travel time\n",
    "## time.sleep(2) allows the website to load for 2 seconds \n",
    "\n",
    "def getTime(start_addr,dest_addr):\n",
    "    driver = webdriver.Chrome()\n",
    "    driver.maximize_window()\n",
    "    # get the link of google map\n",
    "    driver.get('https://www.google.com/maps')\n",
    "    elem = driver.find_element_by_xpath('//*[@id=\"searchbox-directions\"]') # click on the direction\n",
    "    elem.click()\n",
    "    time.sleep(2)\n",
    "    input_from = driver.find_element_by_xpath('//*[@id=\"sb_ifc51\"]/input')\n",
    "    input_from.send_keys(start_addr) # input starting point\n",
    "    time.sleep(2)\n",
    "    input_to= driver.find_element_by_xpath('//*[@id=\"sb_ifc52\"]/input')\n",
    "    input_to.send_keys(dest_addr) #input destination point\n",
    "    input_to.send_keys(Keys.RETURN)\n",
    "    time.sleep(2)\n",
    "    # select car buttom\n",
    "    car = driver.find_element_by_xpath('//*[@id=\"omnibox-directions\"]/div/div[2]/div/div/div[1]/div[2]/button/div[1]')\n",
    "    car.click()\n",
    "    time.sleep(2)\n",
    "    travel_time = driver.find_element_by_xpath('//*[@id=\"section-directions-trip-0\"]/div[2]/div[1]/div[1]/div[1]/span[1]')\n",
    "    text = travel_time.get_attribute('textContent')\n",
    "    driver.close()\n",
    "    time_value = text.split(' ') # split ['6 mins'] into ['6' , 'mins']\n",
    "    \n",
    "    return int(time_value[0])"
   ]
  },
  {
   "cell_type": "code",
   "execution_count": 4,
   "metadata": {},
   "outputs": [],
   "source": [
    "destination = df.DeliveryID.tolist() # destination list"
   ]
  },
  {
   "cell_type": "code",
   "execution_count": 5,
   "metadata": {},
   "outputs": [],
   "source": [
    "plan = [] # final delivery id plan\n",
    "curr = 0 #current Delivery id\n",
    "destination.remove(curr) # recomve the current location"
   ]
  },
  {
   "cell_type": "code",
   "execution_count": 6,
   "metadata": {},
   "outputs": [
    {
     "name": "stdout",
     "output_type": "stream",
     "text": [
      "start_addr  4331 Overland Ave, Culver City, CA 90230\n",
      "dest_addr  11106 1/2 National Blvd, Los Angeles. CA 90034\n",
      "value 1: 8\n",
      "value 2: -8.0\n",
      "start_addr  4331 Overland Ave, Culver City, CA 90230\n",
      "dest_addr  Culver City, 10797 Washington Blvd, Culver Cit...\n",
      "value 1: 3\n",
      "value 2: -5.333333333333329\n",
      "start_addr  4331 Overland Ave, Culver City, CA 90230\n",
      "dest_addr  10836 Washington Blvd, Culver City, CA 90232\n",
      "value 1: 3\n",
      "value 2: -5.0\n",
      "start_addr  4331 Overland Ave, Culver City, CA 90230\n",
      "dest_addr  3470 S Sepulveda Blvd, Los Angeles, CA 90034\n",
      "value 1: 7\n",
      "value 2: -11.666666666666686\n",
      "max 3\n",
      "start_addr  10836 Washington Blvd, Culver City, CA 90232\n",
      "dest_addr  11106 1/2 National Blvd, Los Angeles. CA 90034\n",
      "value 1: 7\n",
      "value 2: -7.0\n",
      "start_addr  10836 Washington Blvd, Culver City, CA 90232\n",
      "dest_addr  Culver City, 10797 Washington Blvd, Culver Cit...\n",
      "value 1: 2\n",
      "value 2: -3.555555555555557\n",
      "start_addr  10836 Washington Blvd, Culver City, CA 90232\n",
      "dest_addr  3470 S Sepulveda Blvd, Los Angeles, CA 90034\n",
      "value 1: 6\n",
      "value 2: -10.0\n",
      "max 2\n",
      "start_addr  Culver City, 10797 Washington Blvd, Culver Cit...\n",
      "dest_addr  11106 1/2 National Blvd, Los Angeles. CA 90034\n",
      "value 1: 7\n",
      "value 2: -7.0\n",
      "start_addr  Culver City, 10797 Washington Blvd, Culver Cit...\n",
      "dest_addr  3470 S Sepulveda Blvd, Los Angeles, CA 90034\n",
      "value 1: 6\n",
      "value 2: -10.0\n",
      "max 1\n",
      "start_addr  11106 1/2 National Blvd, Los Angeles. CA 90034\n",
      "dest_addr  3470 S Sepulveda Blvd, Los Angeles, CA 90034\n",
      "value 1: 4\n",
      "value 2: -6.666666666666686\n",
      "max 4\n"
     ]
    }
   ],
   "source": [
    "## loop the funtion while destination list is not None\n",
    "\n",
    "while destination:\n",
    "    max_value = -9999;\n",
    "    max_index = -9999;\n",
    "    start_addr = df.Address[df['DeliveryID'] == curr].to_string(index = False)# get address based on the delivery id = curr\n",
    "    for i in destination:\n",
    "        print(\"start_addr \"+start_addr)\n",
    "        dest_addr = df.Address[df['DeliveryID'] == i].to_string(index = False)# get address based on the delivery id = destination\n",
    "        print(\"dest_addr \"+dest_addr)\n",
    "        time_value = getTime(start_addr,dest_addr) # get travel time from above getTime function\n",
    "        print(\"value 1: \"+ str(time_value))\n",
    "        Value = float(df.Value[df['DeliveryID'] == i].to_string(index = False))# get Value based on the delivery id = destination\n",
    "        Duration = float(df.Duration[df['DeliveryID'] == i].to_string(index = False))# get Duration based on the delivery id = destination\n",
    "        Profit = Value - (Value/Duration)*(Duration + time_value)# calculate the profit\n",
    "        print(\"value 2: \"+ str(Profit))\n",
    "        if Profit > max_value:\n",
    "            max_value = Profit\n",
    "            max_index = i\n",
    "    print(\"max \"+str(max_index))\n",
    "    plan.append(max_index)\n",
    "    destination.remove(max_index) # remove point with max profit\n",
    "    curr = max_index"
   ]
  },
  {
   "cell_type": "code",
   "execution_count": 7,
   "metadata": {},
   "outputs": [
    {
     "name": "stdout",
     "output_type": "stream",
     "text": [
      "The route is : 3 -> 2-> 1-> 4\n"
     ]
    }
   ],
   "source": [
    "# print plan as str\n",
    "\n",
    "str_plan = 'The route is : '+str(plan[0]) +' '\n",
    "for i in range(1,len(plan)):\n",
    "    str_plan +=  '-> ' + str(plan[i])\n",
    "\n",
    "print(str_plan)"
   ]
  },
  {
   "cell_type": "code",
   "execution_count": 8,
   "metadata": {},
   "outputs": [],
   "source": [
    "# print plan in messagebox\n",
    "# import tkinter\n",
    "# import tkinter.messagebox\n",
    "\n",
    "# Route = tkinter.messagebox.askokcancel(\"Route for delivery man\",str_plan)"
   ]
  },
  {
   "cell_type": "code",
   "execution_count": 9,
   "metadata": {},
   "outputs": [],
   "source": [
    "## prepare JSON for visualization\n",
    "\n",
    "temp = pd.DataFrame()\n",
    "\n",
    "temp['DeliveryID'] = plan\n",
    "\n",
    "add = []\n",
    "for i in plan:\n",
    "    add.append(df.Address[df['DeliveryID'] == i].to_string(index = False))\n",
    "    \n",
    "temp['Address'] = add\n",
    "\n",
    "\n",
    "temp.to_json('plan.json',orient='index')"
   ]
  },
  {
   "cell_type": "code",
   "execution_count": null,
   "metadata": {},
   "outputs": [],
   "source": []
  }
 ],
 "metadata": {
  "kernelspec": {
   "display_name": "Python 3",
   "language": "python",
   "name": "python3"
  },
  "language_info": {
   "codemirror_mode": {
    "name": "ipython",
    "version": 3
   },
   "file_extension": ".py",
   "mimetype": "text/x-python",
   "name": "python",
   "nbconvert_exporter": "python",
   "pygments_lexer": "ipython3",
   "version": "3.7.4"
  }
 },
 "nbformat": 4,
 "nbformat_minor": 2
}
